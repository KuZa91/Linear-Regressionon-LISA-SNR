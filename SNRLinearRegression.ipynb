{
 "cells": [
  {
   "cell_type": "markdown",
   "metadata": {},
   "source": [
    "<h1> SNR Linear Regression on LISA data</h1> "
   ]
  },
  {
   "cell_type": "markdown",
   "metadata": {},
   "source": [
    "In the following, we are gonna use the Black holes data generated using the code at this [link](https://github.com/KuZa91/Generating-a-BH-Merging-Catalogue/blob/master/BHCatalogV4.1.ipynb), together with the estimated SNR on the LISA detector strain provided by Nikos Karnesis et. al. to try to fit a linear regression on the relation among parameters and SNR. \n",
    "Let's start by importing some modules !"
   ]
  },
  {
   "cell_type": "code",
   "execution_count": 1,
   "metadata": {},
   "outputs": [],
   "source": [
    "import numpy as np\n",
    "import scipy.special as sc\n",
    "import statistics as st\n",
    "import random\n",
    "import pandas as pd\n",
    "import multiprocessing as mp\n",
    "import scipy.stats as scst\n",
    "import sklearn.utils as skut\n",
    "from scipy import interpolate\n",
    "from scipy.integrate import quad\n",
    "from scipy.stats import poisson\n",
    "from multiprocessing import Pool, Manager, Value\n",
    "from functools import partial\n",
    "%matplotlib inline\n",
    "import matplotlib.pyplot as plt\n",
    "plt.style.use('seaborn-whitegrid')"
   ]
  },
  {
   "cell_type": "markdown",
   "metadata": {},
   "source": [
    "<h2> Global Variables of the Simulation </h2>"
   ]
  },
  {
   "cell_type": "markdown",
   "metadata": {},
   "source": [
    "The training data can be loaded using  :"
   ]
  },
  {
   "cell_type": "code",
   "execution_count": 2,
   "metadata": {},
   "outputs": [],
   "source": [
    "df_key = 'SOBBH'\n",
    "df_nm = 'TrainData.h5'\n",
    "train_data = pd.read_hdf(df_nm, df_key)\n"
   ]
  },
  {
   "cell_type": "markdown",
   "metadata": {},
   "source": [
    "the train data appear as follows."
   ]
  },
  {
   "cell_type": "code",
   "execution_count": 3,
   "metadata": {},
   "outputs": [
    {
     "data": {
      "text/html": [
       "<div>\n",
       "<style scoped>\n",
       "    .dataframe tbody tr th:only-of-type {\n",
       "        vertical-align: middle;\n",
       "    }\n",
       "\n",
       "    .dataframe tbody tr th {\n",
       "        vertical-align: top;\n",
       "    }\n",
       "\n",
       "    .dataframe thead th {\n",
       "        text-align: right;\n",
       "    }\n",
       "</style>\n",
       "<table border=\"1\" class=\"dataframe\">\n",
       "  <thead>\n",
       "    <tr style=\"text-align: right;\">\n",
       "      <th></th>\n",
       "      <th>ChMs</th>\n",
       "      <th>DeltaM</th>\n",
       "      <th>distance</th>\n",
       "      <th>InBandT</th>\n",
       "      <th>Inclination</th>\n",
       "      <th>SNR_Ideal</th>\n",
       "    </tr>\n",
       "  </thead>\n",
       "  <tbody>\n",
       "    <tr>\n",
       "      <th>0</th>\n",
       "      <td>4.729341</td>\n",
       "      <td>0.001592</td>\n",
       "      <td>2.133770</td>\n",
       "      <td>7000.599908</td>\n",
       "      <td>2.335913</td>\n",
       "      <td>0.01</td>\n",
       "    </tr>\n",
       "    <tr>\n",
       "      <th>1</th>\n",
       "      <td>5.005127</td>\n",
       "      <td>0.620365</td>\n",
       "      <td>2.673357</td>\n",
       "      <td>4232.634404</td>\n",
       "      <td>0.697830</td>\n",
       "      <td>0.01</td>\n",
       "    </tr>\n",
       "    <tr>\n",
       "      <th>2</th>\n",
       "      <td>4.734721</td>\n",
       "      <td>0.032402</td>\n",
       "      <td>2.839051</td>\n",
       "      <td>1971.592774</td>\n",
       "      <td>2.648983</td>\n",
       "      <td>0.01</td>\n",
       "    </tr>\n",
       "    <tr>\n",
       "      <th>3</th>\n",
       "      <td>5.153123</td>\n",
       "      <td>0.984108</td>\n",
       "      <td>2.673357</td>\n",
       "      <td>5392.216716</td>\n",
       "      <td>3.019648</td>\n",
       "      <td>0.01</td>\n",
       "    </tr>\n",
       "    <tr>\n",
       "      <th>4</th>\n",
       "      <td>6.552608</td>\n",
       "      <td>4.875557</td>\n",
       "      <td>2.308263</td>\n",
       "      <td>2772.749490</td>\n",
       "      <td>0.127102</td>\n",
       "      <td>0.02</td>\n",
       "    </tr>\n",
       "    <tr>\n",
       "      <th>...</th>\n",
       "      <td>...</td>\n",
       "      <td>...</td>\n",
       "      <td>...</td>\n",
       "      <td>...</td>\n",
       "      <td>...</td>\n",
       "      <td>...</td>\n",
       "    </tr>\n",
       "    <tr>\n",
       "      <th>34563219</th>\n",
       "      <td>86.480238</td>\n",
       "      <td>0.712735</td>\n",
       "      <td>2.624757</td>\n",
       "      <td>20.496509</td>\n",
       "      <td>1.691540</td>\n",
       "      <td>1.26</td>\n",
       "    </tr>\n",
       "    <tr>\n",
       "      <th>34563220</th>\n",
       "      <td>86.501391</td>\n",
       "      <td>0.573237</td>\n",
       "      <td>3.124760</td>\n",
       "      <td>4239.518523</td>\n",
       "      <td>0.966862</td>\n",
       "      <td>0.01</td>\n",
       "    </tr>\n",
       "    <tr>\n",
       "      <th>34563221</th>\n",
       "      <td>86.541524</td>\n",
       "      <td>0.542906</td>\n",
       "      <td>6.558404</td>\n",
       "      <td>596.432229</td>\n",
       "      <td>0.172599</td>\n",
       "      <td>0.06</td>\n",
       "    </tr>\n",
       "    <tr>\n",
       "      <th>34563222</th>\n",
       "      <td>86.586592</td>\n",
       "      <td>0.399863</td>\n",
       "      <td>3.698479</td>\n",
       "      <td>1704.064583</td>\n",
       "      <td>0.479717</td>\n",
       "      <td>0.03</td>\n",
       "    </tr>\n",
       "    <tr>\n",
       "      <th>34563223</th>\n",
       "      <td>86.602944</td>\n",
       "      <td>0.400933</td>\n",
       "      <td>3.378744</td>\n",
       "      <td>2809.119728</td>\n",
       "      <td>2.051425</td>\n",
       "      <td>0.01</td>\n",
       "    </tr>\n",
       "  </tbody>\n",
       "</table>\n",
       "<p>34563224 rows × 6 columns</p>\n",
       "</div>"
      ],
      "text/plain": [
       "               ChMs    DeltaM  distance      InBandT  Inclination  SNR_Ideal\n",
       "0          4.729341  0.001592  2.133770  7000.599908     2.335913       0.01\n",
       "1          5.005127  0.620365  2.673357  4232.634404     0.697830       0.01\n",
       "2          4.734721  0.032402  2.839051  1971.592774     2.648983       0.01\n",
       "3          5.153123  0.984108  2.673357  5392.216716     3.019648       0.01\n",
       "4          6.552608  4.875557  2.308263  2772.749490     0.127102       0.02\n",
       "...             ...       ...       ...          ...          ...        ...\n",
       "34563219  86.480238  0.712735  2.624757    20.496509     1.691540       1.26\n",
       "34563220  86.501391  0.573237  3.124760  4239.518523     0.966862       0.01\n",
       "34563221  86.541524  0.542906  6.558404   596.432229     0.172599       0.06\n",
       "34563222  86.586592  0.399863  3.698479  1704.064583     0.479717       0.03\n",
       "34563223  86.602944  0.400933  3.378744  2809.119728     2.051425       0.01\n",
       "\n",
       "[34563224 rows x 6 columns]"
      ]
     },
     "execution_count": 3,
     "metadata": {},
     "output_type": "execute_result"
    }
   ],
   "source": [
    "train_data"
   ]
  },
  {
   "cell_type": "markdown",
   "metadata": {},
   "source": [
    "We know from previous studies that the dependance on *inclination* of the SNR is non-linear, in particular, we know that this term damp off the value of SNR when close to $\\pi / 2$.\n",
    "We can hence start by redefining a new variable as the distance of the inclination to the latter :"
   ]
  },
  {
   "cell_type": "code",
   "execution_count": 4,
   "metadata": {},
   "outputs": [],
   "source": [
    "d_inc = abs(train_data.Inclination - (np.pi/2.))"
   ]
  },
  {
   "cell_type": "markdown",
   "metadata": {},
   "source": [
    "and define an inclination factor that maximize it's value for *d_inc = 0* as :"
   ]
  },
  {
   "cell_type": "code",
   "execution_count": 5,
   "metadata": {},
   "outputs": [],
   "source": [
    "train_data['inc_fac'] = 1./(1. - np.exp(- d_inc))"
   ]
  },
  {
   "cell_type": "markdown",
   "metadata": {},
   "source": [
    "What is left is a column with all ones in order to estimate the intercept of the linear regression, this can be done by recycling the previous list as :"
   ]
  },
  {
   "cell_type": "code",
   "execution_count": 6,
   "metadata": {},
   "outputs": [],
   "source": [
    "d_inc[:] = 1.\n",
    "train_data['Intercept'] = d_inc\n",
    "d_inc = []"
   ]
  },
  {
   "cell_type": "markdown",
   "metadata": {},
   "source": [
    "<h2> Separing the train data from the test data </h2>"
   ]
  },
  {
   "cell_type": "markdown",
   "metadata": {},
   "source": [
    "As we are going to use [cross-validation](https://en.wikipedia.org/wiki/Cross-validation_(statistics)), let's start by shuffling our data in order to avoid having the same result on each run, and separe them in a set of _train data_ and one for the _test data_."
   ]
  },
  {
   "cell_type": "code",
   "execution_count": 7,
   "metadata": {},
   "outputs": [],
   "source": [
    "train_data = skut.shuffle(train_data)"
   ]
  },
  {
   "cell_type": "code",
   "execution_count": 8,
   "metadata": {
    "scrolled": false
   },
   "outputs": [
    {
     "data": {
      "text/html": [
       "<div>\n",
       "<style scoped>\n",
       "    .dataframe tbody tr th:only-of-type {\n",
       "        vertical-align: middle;\n",
       "    }\n",
       "\n",
       "    .dataframe tbody tr th {\n",
       "        vertical-align: top;\n",
       "    }\n",
       "\n",
       "    .dataframe thead th {\n",
       "        text-align: right;\n",
       "    }\n",
       "</style>\n",
       "<table border=\"1\" class=\"dataframe\">\n",
       "  <thead>\n",
       "    <tr style=\"text-align: right;\">\n",
       "      <th></th>\n",
       "      <th>ChMs</th>\n",
       "      <th>DeltaM</th>\n",
       "      <th>distance</th>\n",
       "      <th>InBandT</th>\n",
       "      <th>Inclination</th>\n",
       "      <th>SNR_Ideal</th>\n",
       "      <th>inc_fac</th>\n",
       "      <th>Intercept</th>\n",
       "    </tr>\n",
       "  </thead>\n",
       "  <tbody>\n",
       "    <tr>\n",
       "      <th>22733928</th>\n",
       "      <td>12.850310</td>\n",
       "      <td>5.385313</td>\n",
       "      <td>5.442282</td>\n",
       "      <td>10116.172777</td>\n",
       "      <td>0.005143</td>\n",
       "      <td>0.01</td>\n",
       "      <td>1.264145</td>\n",
       "      <td>1.0</td>\n",
       "    </tr>\n",
       "    <tr>\n",
       "      <th>11482189</th>\n",
       "      <td>6.953497</td>\n",
       "      <td>1.688108</td>\n",
       "      <td>2.325645</td>\n",
       "      <td>4280.623512</td>\n",
       "      <td>0.041408</td>\n",
       "      <td>0.01</td>\n",
       "      <td>1.276598</td>\n",
       "      <td>1.0</td>\n",
       "    </tr>\n",
       "    <tr>\n",
       "      <th>30232188</th>\n",
       "      <td>6.995473</td>\n",
       "      <td>0.757478</td>\n",
       "      <td>3.855238</td>\n",
       "      <td>5729.660460</td>\n",
       "      <td>0.606965</td>\n",
       "      <td>0.01</td>\n",
       "      <td>1.616629</td>\n",
       "      <td>1.0</td>\n",
       "    </tr>\n",
       "    <tr>\n",
       "      <th>964994</th>\n",
       "      <td>5.652245</td>\n",
       "      <td>0.662230</td>\n",
       "      <td>2.326090</td>\n",
       "      <td>2579.851509</td>\n",
       "      <td>0.327648</td>\n",
       "      <td>0.01</td>\n",
       "      <td>1.405431</td>\n",
       "      <td>1.0</td>\n",
       "    </tr>\n",
       "    <tr>\n",
       "      <th>9500180</th>\n",
       "      <td>20.653627</td>\n",
       "      <td>15.243030</td>\n",
       "      <td>1.328532</td>\n",
       "      <td>3885.902949</td>\n",
       "      <td>2.409686</td>\n",
       "      <td>0.02</td>\n",
       "      <td>1.761153</td>\n",
       "      <td>1.0</td>\n",
       "    </tr>\n",
       "    <tr>\n",
       "      <th>...</th>\n",
       "      <td>...</td>\n",
       "      <td>...</td>\n",
       "      <td>...</td>\n",
       "      <td>...</td>\n",
       "      <td>...</td>\n",
       "      <td>...</td>\n",
       "      <td>...</td>\n",
       "      <td>...</td>\n",
       "    </tr>\n",
       "    <tr>\n",
       "      <th>8246754</th>\n",
       "      <td>6.376715</td>\n",
       "      <td>0.365747</td>\n",
       "      <td>1.523762</td>\n",
       "      <td>6870.336267</td>\n",
       "      <td>2.493823</td>\n",
       "      <td>0.01</td>\n",
       "      <td>1.659241</td>\n",
       "      <td>1.0</td>\n",
       "    </tr>\n",
       "    <tr>\n",
       "      <th>32479282</th>\n",
       "      <td>27.863659</td>\n",
       "      <td>11.809408</td>\n",
       "      <td>3.972998</td>\n",
       "      <td>10147.344276</td>\n",
       "      <td>2.473862</td>\n",
       "      <td>0.01</td>\n",
       "      <td>1.681591</td>\n",
       "      <td>1.0</td>\n",
       "    </tr>\n",
       "    <tr>\n",
       "      <th>5169346</th>\n",
       "      <td>9.114516</td>\n",
       "      <td>0.630109</td>\n",
       "      <td>1.305464</td>\n",
       "      <td>6625.136188</td>\n",
       "      <td>2.167876</td>\n",
       "      <td>0.01</td>\n",
       "      <td>2.224283</td>\n",
       "      <td>1.0</td>\n",
       "    </tr>\n",
       "    <tr>\n",
       "      <th>16482341</th>\n",
       "      <td>22.972712</td>\n",
       "      <td>13.454153</td>\n",
       "      <td>2.640047</td>\n",
       "      <td>3706.192260</td>\n",
       "      <td>2.191461</td>\n",
       "      <td>0.01</td>\n",
       "      <td>2.162569</td>\n",
       "      <td>1.0</td>\n",
       "    </tr>\n",
       "    <tr>\n",
       "      <th>5265950</th>\n",
       "      <td>10.766228</td>\n",
       "      <td>6.717798</td>\n",
       "      <td>1.632912</td>\n",
       "      <td>4129.978285</td>\n",
       "      <td>2.201015</td>\n",
       "      <td>0.01</td>\n",
       "      <td>2.138925</td>\n",
       "      <td>1.0</td>\n",
       "    </tr>\n",
       "  </tbody>\n",
       "</table>\n",
       "<p>34563224 rows × 8 columns</p>\n",
       "</div>"
      ],
      "text/plain": [
       "               ChMs     DeltaM  distance       InBandT  Inclination  \\\n",
       "22733928  12.850310   5.385313  5.442282  10116.172777     0.005143   \n",
       "11482189   6.953497   1.688108  2.325645   4280.623512     0.041408   \n",
       "30232188   6.995473   0.757478  3.855238   5729.660460     0.606965   \n",
       "964994     5.652245   0.662230  2.326090   2579.851509     0.327648   \n",
       "9500180   20.653627  15.243030  1.328532   3885.902949     2.409686   \n",
       "...             ...        ...       ...           ...          ...   \n",
       "8246754    6.376715   0.365747  1.523762   6870.336267     2.493823   \n",
       "32479282  27.863659  11.809408  3.972998  10147.344276     2.473862   \n",
       "5169346    9.114516   0.630109  1.305464   6625.136188     2.167876   \n",
       "16482341  22.972712  13.454153  2.640047   3706.192260     2.191461   \n",
       "5265950   10.766228   6.717798  1.632912   4129.978285     2.201015   \n",
       "\n",
       "          SNR_Ideal   inc_fac  Intercept  \n",
       "22733928       0.01  1.264145        1.0  \n",
       "11482189       0.01  1.276598        1.0  \n",
       "30232188       0.01  1.616629        1.0  \n",
       "964994         0.01  1.405431        1.0  \n",
       "9500180        0.02  1.761153        1.0  \n",
       "...             ...       ...        ...  \n",
       "8246754        0.01  1.659241        1.0  \n",
       "32479282       0.01  1.681591        1.0  \n",
       "5169346        0.01  2.224283        1.0  \n",
       "16482341       0.01  2.162569        1.0  \n",
       "5265950        0.01  2.138925        1.0  \n",
       "\n",
       "[34563224 rows x 8 columns]"
      ]
     },
     "execution_count": 8,
     "metadata": {},
     "output_type": "execute_result"
    }
   ],
   "source": [
    "train_data"
   ]
  },
  {
   "cell_type": "markdown",
   "metadata": {},
   "source": [
    "We can now separe the data in training data and test data, we are gonna use _9/10_ of the original train data to train our model and the rest to cross validate :"
   ]
  },
  {
   "cell_type": "code",
   "execution_count": 9,
   "metadata": {},
   "outputs": [],
   "source": [
    "train = train_data[0:int(len(train_data['Intercept'])*9/10)]\n",
    "test = train_data[int(len(train_data['Intercept'])*9/10):]"
   ]
  },
  {
   "cell_type": "markdown",
   "metadata": {},
   "source": [
    "so that our features and targets can be separed in the two arrays :"
   ]
  },
  {
   "cell_type": "code",
   "execution_count": 10,
   "metadata": {},
   "outputs": [],
   "source": [
    "x_train = np.array([train.Intercept, 1./train.distance, train.ChMs**(5./2.), train.DeltaM, train.InBandT, train.inc_fac])\n",
    "x_train = np.transpose(x_train)\n",
    "y_train = np.array(train.SNR_Ideal)"
   ]
  },
  {
   "cell_type": "markdown",
   "metadata": {},
   "source": [
    "we decided to use in the data the inverse of the _distance_ and the _chirp mass_ to the _5/3_ instead of the default values, because we already know the dependancy of _SNR_ on the latter from [literature](https://arxiv.org/abs/gr-qc/9701039).\n",
    "In the same way, we can proceed for our test data obtaining :"
   ]
  },
  {
   "cell_type": "code",
   "execution_count": 11,
   "metadata": {},
   "outputs": [],
   "source": [
    "x_test = np.array([test.Intercept, 1./test.distance, test.ChMs**(5./3.), test.DeltaM, test.InBandT, test.inc_fac])\n",
    "x_test = np.transpose(x_test)\n",
    "y_test = np.array(test.SNR_Ideal)"
   ]
  },
  {
   "cell_type": "markdown",
   "metadata": {},
   "source": [
    "<h2> Estimating the coefficients of the Linear Regression </h2>"
   ]
  },
  {
   "cell_type": "markdown",
   "metadata": {},
   "source": [
    "To estimate the coefficients of the linear regression, we can use the built-in function _np.linalf.lstsq_, we obtain the following results :"
   ]
  },
  {
   "cell_type": "code",
   "execution_count": 12,
   "metadata": {},
   "outputs": [
    {
     "name": "stdout",
     "output_type": "stream",
     "text": [
      "We found the following coefficients to interpolate the data :  [ 2.16937829e-02  4.80538055e-02  9.19887194e-07  3.15535783e-04\n",
      " -4.83811520e-06 -1.15004543e-08]\n"
     ]
    }
   ],
   "source": [
    "c = np.linalg.lstsq(x_train, y_train,rcond = None)[0]\n",
    "print('We found the following coefficients to interpolate the data : ', c)"
   ]
  },
  {
   "cell_type": "markdown",
   "metadata": {},
   "source": [
    "<h2> ML estimated SNR on test data </h2>"
   ]
  },
  {
   "cell_type": "markdown",
   "metadata": {},
   "source": [
    "Given the coefficients of the linear regression, the _ML_ estimated SNR for the test data can be easily obtained as :"
   ]
  },
  {
   "cell_type": "code",
   "execution_count": 13,
   "metadata": {},
   "outputs": [],
   "source": [
    "yml_test = x_test @ c\n",
    "yml_test[yml_test < 0.] = 0."
   ]
  },
  {
   "cell_type": "markdown",
   "metadata": {},
   "source": [
    "in the same way, to estimate the error on the train data we can define :"
   ]
  },
  {
   "cell_type": "code",
   "execution_count": 14,
   "metadata": {},
   "outputs": [],
   "source": [
    "yml_train = x_train @ c\n",
    "yml_train[yml_train < 0.] = 0."
   ]
  },
  {
   "cell_type": "markdown",
   "metadata": {},
   "source": [
    "<h2> Valutation of the performance - Train Data</h2>"
   ]
  },
  {
   "cell_type": "markdown",
   "metadata": {},
   "source": [
    "In order to estimate the efficiency of the approximation, we need to compare the values of the _SNR_ estimated using the linear regression to the ones known for our train data, let's start by estimating the difference from the real value as:"
   ]
  },
  {
   "cell_type": "code",
   "execution_count": 15,
   "metadata": {},
   "outputs": [
    {
     "name": "stdout",
     "output_type": "stream",
     "text": [
      "The average of the error between ML estimation and real train data targets is :  0.016980361928762736\n"
     ]
    }
   ],
   "source": [
    "y_err = abs(y_train - yml_train)\n",
    "print('The average of the error between ML estimation and real train data targets is : ', np.average(y_err))"
   ]
  },
  {
   "cell_type": "markdown",
   "metadata": {},
   "source": [
    "We can observe how the error is distributed in function of the SNR to be predicted as : "
   ]
  },
  {
   "cell_type": "code",
   "execution_count": 16,
   "metadata": {
    "scrolled": false
   },
   "outputs": [
    {
     "data": {
      "image/png": "[encoded data removed]",
      "text/plain": [
       "<Figure size 864x576 with 1 Axes>"
      ]
     },
     "metadata": {},
     "output_type": "display_data"
    }
   ],
   "source": [
    "#Automatically setting the ticks\n",
    "\n",
    "Nxtick = int((max(y_train)- min(y_train))/12)\n",
    "if Nxtick == 0:\n",
    "    Nxtick = 1\n",
    "    \n",
    "Nytick = int((max(y_err)- min(y_err))/12)\n",
    "if Nytick == 0:\n",
    "    Nytick = 1\n",
    "\n",
    "plt.figure(figsize=(12,8))\n",
    "plt.scatter(y_train, y_err, s=2, color = 'crimson')\n",
    "plt.xlabel('Ideal SNR of the event', fontsize = 15)\n",
    "plt.xticks(np.arange(min(np.around(y_train)), max(np.around(y_train)+1), Nxtick))\n",
    "plt.ylabel('Error on the prediction of the Train Data SNR', fontsize = 15)\n",
    "plt.yticks(np.arange(min(y_err), max(y_err)+1, Nytick ))\n",
    "plt.savefig('TrainPredictionError.png',dpi=500)"
   ]
  },
  {
   "cell_type": "markdown",
   "metadata": {},
   "source": [
    "In the same way, we can predict the percentual error as :"
   ]
  },
  {
   "cell_type": "code",
   "execution_count": 17,
   "metadata": {},
   "outputs": [
    {
     "name": "stdout",
     "output_type": "stream",
     "text": [
      "The average of the percentual error from the ML estimation to the real value is :  92.56213018310834\n"
     ]
    }
   ],
   "source": [
    "y_perr = 100.*abs(y_train - yml_train)/y_train\n",
    "print('The average of the percentual error from the ML estimation to the real value is : ', np.average(y_perr))"
   ]
  },
  {
   "cell_type": "markdown",
   "metadata": {},
   "source": [
    "which gives the following scatterplot for the distribution of the errors :"
   ]
  },
  {
   "cell_type": "code",
   "execution_count": 18,
   "metadata": {},
   "outputs": [
    {
     "data": {
      "image/png": "[encoded data removed]",
      "text/plain": [
       "<Figure size 864x576 with 1 Axes>"
      ]
     },
     "metadata": {},
     "output_type": "display_data"
    }
   ],
   "source": [
    "#Automatically setting the ticks\n",
    "\n",
    "Nxtick = int((max(y_train)- min(y_train))/12)\n",
    "if Nxtick == 0:\n",
    "    Nxtick = 1\n",
    "    \n",
    "Nytick = int((max(y_perr)- min(y_perr))/12)\n",
    "if Nytick == 0:\n",
    "    Nytick = 1    \n",
    "\n",
    "plt.figure(figsize=(12,8))\n",
    "plt.scatter(y_train, y_perr, s=2, color = 'crimson')\n",
    "plt.xlabel('Ideal SNR of the event', fontsize = 15)\n",
    "plt.xticks(np.arange(min(np.around(y_train)), max(np.around(y_train)+1), Nxtick))\n",
    "plt.ylabel('Percentual error on the prediction of the Train Data SNR', fontsize = 15)\n",
    "plt.yticks(np.arange(min(y_perr), max(y_perr)+1, Nytick))\n",
    "plt.savefig('TrainPercentualPredictionError.png',dpi=500)"
   ]
  },
  {
   "cell_type": "markdown",
   "metadata": {},
   "source": [
    "<h2> Valutation of the performance - Test Data</h2>"
   ]
  },
  {
   "cell_type": "markdown",
   "metadata": {},
   "source": [
    "In the same way, to understand how well our approximation can predict new data, we need to compare the values of the _SNR_ estimated using the linear regression to the ones known for our test data, let's start by estimating the difference from the real value as:"
   ]
  },
  {
   "cell_type": "code",
   "execution_count": 19,
   "metadata": {},
   "outputs": [
    {
     "name": "stdout",
     "output_type": "stream",
     "text": [
      "The average of the error from the ML estimation to the real value is :  0.016418150588403898\n"
     ]
    }
   ],
   "source": [
    "y_err = abs(y_test - yml_test)\n",
    "print('The average of the error from the ML estimation to the real value is : ', np.average(y_err))"
   ]
  },
  {
   "cell_type": "markdown",
   "metadata": {},
   "source": [
    "We can observe how the error is distributed in function of the SNR to be predicted as : "
   ]
  },
  {
   "cell_type": "code",
   "execution_count": 20,
   "metadata": {
    "scrolled": false
   },
   "outputs": [
    {
     "data": {
      "image/png": "[encoded data removed]",
      "text/plain": [
       "<Figure size 864x576 with 1 Axes>"
      ]
     },
     "metadata": {},
     "output_type": "display_data"
    }
   ],
   "source": [
    "#Automatically setting the ticks\n",
    "\n",
    "Nxtick = int((max(y_test)- min(y_test))/12)\n",
    "if Nxtick == 0:\n",
    "    Nxtick = 1\n",
    "    \n",
    "Nytick = int((max(y_err)- min(y_err))/12)\n",
    "if Nytick == 0:\n",
    "    Nytick = 1\n",
    "\n",
    "plt.figure(figsize=(12,8))\n",
    "plt.scatter(y_test, y_err, s=2)\n",
    "plt.xlabel('Ideal SNR of the event', fontsize = 15)\n",
    "plt.xticks(np.arange(min(np.around(y_test)), max(np.around(y_test)+1), Nxtick))\n",
    "plt.ylabel('Error on the prediction of the SNR', fontsize = 15)\n",
    "plt.yticks(np.arange(min(y_err), max(y_err)+1, Nytick ))\n",
    "plt.savefig('TestPredictionError.png',dpi=500)"
   ]
  },
  {
   "cell_type": "markdown",
   "metadata": {},
   "source": [
    "In the same way, we can predict the percentual error as :"
   ]
  },
  {
   "cell_type": "code",
   "execution_count": 21,
   "metadata": {},
   "outputs": [
    {
     "name": "stdout",
     "output_type": "stream",
     "text": [
      "The average of the percentual error from the ML estimation to the real value is :  86.96736777699346\n"
     ]
    }
   ],
   "source": [
    "y_perr = 100.*abs(y_test - yml_test)/y_test\n",
    "print('The average of the percentual error from the ML estimation to the real value is : ', np.average(y_perr))"
   ]
  },
  {
   "cell_type": "markdown",
   "metadata": {},
   "source": [
    "which gives the following scatterplot for the distribution of the errors :"
   ]
  },
  {
   "cell_type": "code",
   "execution_count": 22,
   "metadata": {
    "scrolled": false
   },
   "outputs": [
    {
     "data": {
      "image/png": "[encoded data removed]",
      "text/plain": [
       "<Figure size 864x576 with 1 Axes>"
      ]
     },
     "metadata": {},
     "output_type": "display_data"
    }
   ],
   "source": [
    "#Automatically setting the ticks\n",
    "\n",
    "Nxtick = int((max(y_test)- min(y_test))/12)\n",
    "if Nxtick == 0:\n",
    "    Nxtick = 1\n",
    "    \n",
    "Nytick = int((max(y_perr)- min(y_perr))/12)\n",
    "if Nytick == 0:\n",
    "    Nytick = 1    \n",
    "\n",
    "plt.figure(figsize=(12,8))\n",
    "plt.scatter(y_test, y_perr, s=2)\n",
    "plt.xlabel('Ideal SNR of the event', fontsize = 15)\n",
    "plt.xticks(np.arange(min(np.around(y_test)), max(np.around(y_test)+1), Nxtick))\n",
    "plt.ylabel('Percentual error on the prediction of the SNR', fontsize = 15)\n",
    "plt.yticks(np.arange(min(y_perr), max(y_perr)+1, Nytick))\n",
    "plt.savefig('TestPercentualPredictionError.png',dpi=500)"
   ]
  }
 ],
 "metadata": {
  "kernelspec": {
   "display_name": "Python 3",
   "language": "python",
   "name": "python3"
  },
  "language_info": {
   "codemirror_mode": {
    "name": "ipython",
    "version": 3
   },
   "file_extension": ".py",
   "mimetype": "text/x-python",
   "name": "python",
   "nbconvert_exporter": "python",
   "pygments_lexer": "ipython3",
   "version": "3.8.10"
  }
 },
 "nbformat": 4,
 "nbformat_minor": 2
}
